{
 "cells": [
  {
   "cell_type": "markdown",
   "id": "sound-population",
   "metadata": {},
   "source": [
    "# Cart-Pole with Policy Gradient"
   ]
  },
  {
   "cell_type": "code",
   "execution_count": 1,
   "id": "silent-experience",
   "metadata": {},
   "outputs": [],
   "source": [
    "import gym\n",
    "import matplotlib.pyplot as plt\n",
    "import numpy as np\n",
    "from PIL import Image\n",
    "import random\n",
    "from IPython.display import clear_output\n",
    "from itertools import count\n",
    "from logger import Logger\n",
    "from pyvirtualdisplay import Display\n",
    "\n",
    "import torch\n",
    "import torch.nn as nn\n",
    "import torch.optim as optim\n",
    "import torch.nn.functional as F\n",
    "import torchvision.transforms as T\n",
    "from torch.autograd import Variable"
   ]
  },
  {
   "cell_type": "code",
   "execution_count": 2,
   "id": "circular-relief",
   "metadata": {},
   "outputs": [
    {
     "data": {
      "text/plain": [
       "<pyvirtualdisplay.display.Display at 0x7facf27bee80>"
      ]
     },
     "execution_count": 2,
     "metadata": {},
     "output_type": "execute_result"
    }
   ],
   "source": [
    "virtual_display = Display(visible=0, size=(1400, 900))\n",
    "virtual_display.start()"
   ]
  },
  {
   "cell_type": "code",
   "execution_count": 3,
   "id": "atmospheric-passing",
   "metadata": {},
   "outputs": [],
   "source": [
    "############ HYPERPARAMETERS ##############\n",
    "FRAMES = 2\n",
    "RESIZE_PIXELS = 60\n",
    "\n",
    "device = 'cuda:0'\n",
    "\n",
    "LR = 0.00001\n",
    "GAMMA = 0.99\n",
    "END_SCORE = 1000\n",
    "############################################"
   ]
  },
  {
   "cell_type": "code",
   "execution_count": 4,
   "id": "vocational-watershed",
   "metadata": {},
   "outputs": [],
   "source": [
    "############ ENVIRONMENT ##############\n",
    "\n",
    "class Environment:\n",
    "    def __init__(self):\n",
    "        self.env = gym.make(\"CartPole-v0\").unwrapped\n",
    "        self.env.reset()\n",
    "        \n",
    "        screen = self.env.render(mode='rgb_array').transpose((2,0,1))\n",
    "        _, self.screen_height, self.screen_width = screen.shape\n",
    "        \n",
    "        self.resize = T.Compose([T.ToPILImage(),\n",
    "                    T.Resize(RESIZE_PIXELS, interpolation=Image.CUBIC),\n",
    "                    T.Grayscale(),\n",
    "                    T.ToTensor()])\n",
    "        \n",
    "        world_width = self.env.x_threshold * 2\n",
    "        self.scale = self.screen_width / world_width\n",
    "        \n",
    "    def get_cart_location(self):\n",
    "        return int(self.env.state[0] * self.scale + self.screen_width / 2.0)\n",
    "        \n",
    "    def get_screen(self):\n",
    "        screen = self.env.render(mode='rgb_array').transpose((2, 0, 1))\n",
    "        \n",
    "        screen = screen[:, int(self.screen_height*0.4):int(self.screen_height * 0.8)]\n",
    "        view_width = int(self.screen_width * 0.6)\n",
    "        cart_location = self.get_cart_location()\n",
    "        if cart_location < view_width // 2:\n",
    "            slice_range = slice(view_width)\n",
    "        elif cart_location > (self.screen_width - view_width // 2):\n",
    "            slice_range = slice(-view_width, None)\n",
    "        else:\n",
    "            slice_range = slice(cart_location - view_width // 2,\n",
    "                                cart_location + view_width // 2)\n",
    "        screen = screen[:, :, slice_range]\n",
    "        screen = np.ascontiguousarray(screen, dtype=np.float32) / 255\n",
    "        screen = torch.from_numpy(screen)\n",
    "        return self.resize(screen).unsqueeze(0)\n",
    "    \n",
    "    def close(self):\n",
    "        self.env.close()\n",
    "        \n",
    "    def step(self, action):\n",
    "        return self.env.step(action)\n",
    "    \n",
    "    def reset(self):\n",
    "        self.env.reset()"
   ]
  },
  {
   "cell_type": "code",
   "execution_count": 5,
   "id": "exciting-conviction",
   "metadata": {},
   "outputs": [],
   "source": [
    "#### NETWORK ##############\n",
    "'''\n",
    "For policy gradient, the network should input the raw pixels, and output the probabilities of choosing either 0 or 1\n",
    "'''\n",
    "\n",
    "class Network(nn.Module):\n",
    "    def __init__(self,h=60,w=135,device='cuda:0'):\n",
    "        super().__init__()\n",
    "        \n",
    "        self.device = device\n",
    "        \n",
    "        input_channel = 2\n",
    "        hidden_channel = 64\n",
    "        hidden_channel2 = 32\n",
    "        kernel_size = 5\n",
    "        stride = 2\n",
    "        \n",
    "        self.base = nn.Sequential(\n",
    "            nn.Conv2d(input_channel, hidden_channel, kernel_size = kernel_size, stride = stride),\n",
    "            nn.BatchNorm2d(hidden_channel),\n",
    "            nn.ReLU(),\n",
    "            nn.Conv2d(hidden_channel, hidden_channel, kernel_size = kernel_size, stride = stride),\n",
    "            nn.BatchNorm2d(hidden_channel),\n",
    "            nn.ReLU(),\n",
    "            nn.Conv2d(hidden_channel, hidden_channel2, kernel_size = kernel_size, stride = stride),\n",
    "            nn.BatchNorm2d(hidden_channel2),\n",
    "            nn.ReLU()\n",
    "        )\n",
    "        \n",
    "        def conv2d_size_out(size, kernel_size = kernel_size, stride = stride):\n",
    "            return (size - (kernel_size - 1) - 1) // stride  + 1\n",
    "        \n",
    "        convw = conv2d_size_out(conv2d_size_out(conv2d_size_out(w)))\n",
    "        convh = conv2d_size_out(conv2d_size_out(conv2d_size_out(h)))\n",
    "        linear_input_size = convw * convh * hidden_channel2\n",
    "        \n",
    "        self.head = nn.Sequential(\n",
    "            nn.Linear(linear_input_size, 24),\n",
    "            nn.ReLU(),\n",
    "            nn.Linear(24, 2)\n",
    "        )\n",
    "\n",
    "    def forward(self, x):\n",
    "        #x = x.to(self.device)\n",
    "        x = self.base(x)\n",
    "        x = x.flatten(1)\n",
    "        x = self.head(x)\n",
    "        return F.softmax(x,dim = 1)"
   ]
  },
  {
   "cell_type": "code",
   "execution_count": 6,
   "id": "progressive-search",
   "metadata": {},
   "outputs": [],
   "source": [
    "env = Environment()"
   ]
  },
  {
   "cell_type": "code",
   "execution_count": 7,
   "id": "complicated-possession",
   "metadata": {},
   "outputs": [
    {
     "data": {
      "image/png": "[encoded data removed]",
      "text/plain": [
       "<Figure size 432x288 with 1 Axes>"
      ]
     },
     "metadata": {
      "needs_background": "light"
     },
     "output_type": "display_data"
    }
   ],
   "source": [
    "env.step(0)\n",
    "plt.figure()\n",
    "plt.imshow(env.get_screen().cpu().squeeze(0).permute(1, 2, 0).numpy().squeeze(), cmap='gray')\n",
    "plt.title('Example extracted screen')\n",
    "plt.show()"
   ]
  },
  {
   "cell_type": "code",
   "execution_count": 8,
   "id": "authorized-minutes",
   "metadata": {},
   "outputs": [],
   "source": [
    "screen_shape = env.get_screen().shape\n",
    "policy_net = Network(h = screen_shape[2], w = screen_shape[3], device = device).to(device)\n",
    "\n",
    "optimizer = optim.Adam(policy_net.parameters(), lr=LR)"
   ]
  },
  {
   "cell_type": "code",
   "execution_count": 9,
   "id": "compound-cinema",
   "metadata": {},
   "outputs": [
    {
     "data": {
      "text/plain": [
       "tensor([[0.5225, 0.4775]], device='cuda:0', grad_fn=<SoftmaxBackward>)"
      ]
     },
     "execution_count": 9,
     "metadata": {},
     "output_type": "execute_result"
    }
   ],
   "source": [
    "p_screen = env.get_screen().to(device)\n",
    "c_screen = env.get_screen().to(device)\n",
    "\n",
    "x = torch.cat((p_screen, c_screen),dim=1)\n",
    "\n",
    "policy_net(x)"
   ]
  },
  {
   "cell_type": "code",
   "execution_count": 10,
   "id": "operational-champagne",
   "metadata": {},
   "outputs": [],
   "source": [
    "HISTORY = []\n",
    "\n",
    "def discount_rewards(r):\n",
    "    discounted_r = torch.zeros(r.size())\n",
    "    running_add = 0\n",
    "    for t in reversed(range(len(r))):\n",
    "        running_add = running_add * GAMMA + r[t]\n",
    "        discounted_r[t] = running_add\n",
    "\n",
    "    return discounted_r\n",
    "\n",
    "def run_episode(net, episode, env, logger = None):\n",
    "    net.eval()\n",
    "    state = env.reset()\n",
    "    prev_screen = env.get_screen().to(device)\n",
    "    \n",
    "    reward_sum = 0\n",
    "    xs = torch.FloatTensor([]).to(device)\n",
    "    ys = torch.FloatTensor([]).to(device)\n",
    "    rewards = torch.FloatTensor([]).to(device)\n",
    "    steps = 0\n",
    "\n",
    "    for t in count():\n",
    "        screen = env.get_screen().to(device)\n",
    "        \n",
    "        x = torch.cat((prev_screen, screen), dim=1)\n",
    "        \n",
    "        action_prob = net(x)\n",
    "\n",
    "        action = 0 if random.random() < action_prob[0][0] else 1\n",
    "\n",
    "        y = torch.FloatTensor([[1, 0]] if action == 0 else [[0, 1]]).to(device)\n",
    "        \n",
    "        xs = torch.cat([xs, x])\n",
    "        ys = torch.cat([ys, y])\n",
    "        \n",
    "        prev_screen = screen\n",
    "        state, reward, done, _ = env.step(action)\n",
    "        \n",
    "        # Reward modification for better stability\n",
    "        x, x_dot, theta, theta_dot = state\n",
    "        r1 = (env.env.x_threshold - abs(x)) / env.env.x_threshold - 0.8\n",
    "        r2 = (env.env.theta_threshold_radians - abs(theta)) / env.env.theta_threshold_radians - 0.5\n",
    "        reward = r1 + r2\n",
    "        #reward = torch.tensor([reward], device=device)\n",
    "        if t >= END_SCORE-1:\n",
    "            reward = reward + 20\n",
    "            done = 1\n",
    "        else: \n",
    "            if done:\n",
    "                reward = reward - 20 \n",
    "        \n",
    "        rewards = torch.cat([rewards, torch.FloatTensor([[reward]]).to(device)])\n",
    "        reward_sum += reward\n",
    "        steps += 1\n",
    "    \n",
    "\n",
    "        if done or steps >= 1000:\n",
    "            adv = discount_rewards(rewards)\n",
    "            #adv = adv/(adv.std())\n",
    "            #adv = (adv - adv.mean())\n",
    "            #adv = (adv - adv.mean())/(adv.std() + 1e-7)\n",
    "            #print(adv)\n",
    "            loss = learn(xs, ys, adv, net)\n",
    "            #HISTORY.append(reward_sum)\n",
    "            print(\"[Episode {:>5}]  steps: {:>5} loss: {:>5}\".format(episode, steps, loss))\n",
    "            #if sum(HISTORY[-100:])/100 > 980:\n",
    "                #return True\n",
    "            #else:\n",
    "                #return False\n",
    "            if logger != None:\n",
    "                log.log_reward(reward=steps,episode=episode)\n",
    "            return False\n",
    "\n",
    "def learn(x, y, adv, model):\n",
    "    model.train()\n",
    "    # Loss function, ∑ Ai*logp(yi∣xi), but we need fake lable Y due to autodiff\n",
    "    action_pred = model(x)\n",
    "    y = Variable(y, requires_grad=True)\n",
    "    adv = Variable(adv).to(device)\n",
    "    # print(action_pred)\n",
    "    log_lik = -y * torch.log(action_pred)\n",
    "    # print(y)\n",
    "    log_lik_adv = log_lik * adv\n",
    "    # print(torch.sum(log_lik_adv, 1))\n",
    "    loss = torch.sum(log_lik_adv, 1).mean()\n",
    "\n",
    "    optimizer.zero_grad()\n",
    "    loss.backward()\n",
    "    optimizer.step()\n",
    "\n",
    "    return loss.item()"
   ]
  },
  {
   "cell_type": "code",
   "execution_count": 11,
   "id": "executive-effort",
   "metadata": {},
   "outputs": [],
   "source": [
    "name = f\"PG hidden=64 lr={LR} max_steps=1000 Adam\"\n",
    "log = Logger(model_name=name)"
   ]
  },
  {
   "cell_type": "code",
   "execution_count": null,
   "id": "formal-revision",
   "metadata": {},
   "outputs": [
    {
     "name": "stdout",
     "output_type": "stream",
     "text": [
      "[Episode   201]  steps:    55 loss: -4.024871826171875\n",
      "[Episode   202]  steps:    20 loss: -11.869795799255371\n",
      "[Episode   203]  steps:   111 loss: -3.0275676250457764\n",
      "[Episode   204]  steps:    22 loss: -12.69566535949707\n",
      "[Episode   205]  steps:    37 loss: -11.543976783752441\n",
      "[Episode   206]  steps:    29 loss: -10.005578994750977\n",
      "[Episode   207]  steps:    21 loss: -12.927447319030762\n",
      "[Episode   208]  steps:    30 loss: -9.152851104736328\n",
      "[Episode   209]  steps:    26 loss: -11.9569730758667\n",
      "[Episode   210]  steps:   134 loss: -4.264444351196289\n",
      "[Episode   211]  steps:    27 loss: -9.97315788269043\n",
      "[Episode   212]  steps:    50 loss: -6.584788799285889\n",
      "[Episode   213]  steps:    40 loss: -9.861287117004395\n",
      "[Episode   214]  steps:    19 loss: -11.70457935333252\n",
      "[Episode   215]  steps:    10 loss: -16.454923629760742\n",
      "[Episode   216]  steps:    12 loss: -11.771957397460938\n",
      "[Episode   217]  steps:    45 loss: -8.644630432128906\n",
      "[Episode   218]  steps:    36 loss: -8.825589179992676\n",
      "[Episode   219]  steps:    12 loss: -11.944892883300781\n",
      "[Episode   220]  steps:    23 loss: -11.963385581970215\n",
      "[Episode   221]  steps:    30 loss: -10.635242462158203\n",
      "[Episode   222]  steps:    42 loss: -5.633277416229248\n",
      "[Episode   223]  steps:    17 loss: -12.53472900390625\n",
      "[Episode   224]  steps:    17 loss: -12.357706069946289\n",
      "[Episode   225]  steps:    18 loss: -11.552886962890625\n",
      "[Episode   226]  steps:    22 loss: -10.387920379638672\n",
      "[Episode   227]  steps:    10 loss: -17.131582260131836\n",
      "[Episode   228]  steps:    29 loss: -8.610260963439941\n",
      "[Episode   229]  steps:    21 loss: -9.868976593017578\n",
      "[Episode   230]  steps:    15 loss: -13.611492156982422\n",
      "[Episode   231]  steps:    32 loss: -11.09868049621582\n",
      "[Episode   232]  steps:    23 loss: -8.424162864685059\n",
      "[Episode   233]  steps:    15 loss: -12.236355781555176\n",
      "[Episode   234]  steps:    33 loss: -9.34288215637207\n",
      "[Episode   235]  steps:    46 loss: -6.539218425750732\n",
      "[Episode   236]  steps:    11 loss: -14.562164306640625\n",
      "[Episode   237]  steps:    34 loss: -11.087221145629883\n",
      "[Episode   238]  steps:    38 loss: -7.5567498207092285\n",
      "[Episode   239]  steps:    42 loss: -10.72733211517334\n",
      "[Episode   240]  steps:    19 loss: -13.3010892868042\n",
      "[Episode   241]  steps:    45 loss: -6.280359268188477\n",
      "[Episode   242]  steps:    16 loss: -12.734947204589844\n",
      "[Episode   243]  steps:    44 loss: -7.568620204925537\n",
      "[Episode   244]  steps:    13 loss: -15.230783462524414\n",
      "[Episode   245]  steps:    31 loss: -11.447444915771484\n",
      "[Episode   246]  steps:    24 loss: -10.779123306274414\n",
      "[Episode   247]  steps:    60 loss: -6.519580841064453\n",
      "[Episode   248]  steps:    63 loss: -7.890527725219727\n",
      "[Episode   249]  steps:    35 loss: -8.846226692199707\n",
      "[Episode   250]  steps:    23 loss: -8.588481903076172\n"
     ]
    }
   ],
   "source": [
    "import time\n",
    "\n",
    "for episode in range(100000):\n",
    "    complete = run_episode(policy_net, episode, env,log)\n",
    "\n",
    "    if complete:\n",
    "        print('complete...!')\n",
    "        break\n",
    "    \n",
    "    if episode % 50 == 0:\n",
    "        clear_output(wait=True)\n",
    "        time.sleep(10)"
   ]
  },
  {
   "cell_type": "code",
   "execution_count": null,
   "id": "american-album",
   "metadata": {},
   "outputs": [],
   "source": []
  }
 ],
 "metadata": {
  "kernelspec": {
   "display_name": "Python 3",
   "language": "python",
   "name": "python3"
  },
  "language_info": {
   "codemirror_mode": {
    "name": "ipython",
    "version": 3
   },
   "file_extension": ".py",
   "mimetype": "text/x-python",
   "name": "python",
   "nbconvert_exporter": "python",
   "pygments_lexer": "ipython3",
   "version": "3.6.9"
  }
 },
 "nbformat": 4,
 "nbformat_minor": 5
}
