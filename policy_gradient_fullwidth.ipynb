{
 "cells": [
  {
   "cell_type": "markdown",
   "id": "middle-vacuum",
   "metadata": {},
   "source": [
    "# Cart-Pole with Policy Gradient"
   ]
  },
  {
   "cell_type": "code",
   "execution_count": 1,
   "id": "treated-glance",
   "metadata": {},
   "outputs": [],
   "source": [
    "import gym\n",
    "import matplotlib.pyplot as plt\n",
    "import numpy as np\n",
    "from PIL import Image\n",
    "import random\n",
    "from IPython.display import clear_output\n",
    "from itertools import count\n",
    "from logger import Logger\n",
    "from pyvirtualdisplay import Display\n",
    "\n",
    "import torch\n",
    "import torch.nn as nn\n",
    "import torch.optim as optim\n",
    "import torch.nn.functional as F\n",
    "import torchvision.transforms as T\n",
    "from torch.autograd import Variable"
   ]
  },
  {
   "cell_type": "code",
   "execution_count": 2,
   "id": "aging-retailer",
   "metadata": {},
   "outputs": [
    {
     "data": {
      "text/plain": [
       "<pyvirtualdisplay.display.Display at 0x7fb6d81648d0>"
      ]
     },
     "execution_count": 2,
     "metadata": {},
     "output_type": "execute_result"
    }
   ],
   "source": [
    "virtual_display = Display(visible=0, size=(1400, 900))\n",
    "virtual_display.start()"
   ]
  },
  {
   "cell_type": "code",
   "execution_count": 3,
   "id": "uniform-portland",
   "metadata": {},
   "outputs": [],
   "source": [
    "############ HYPERPARAMETERS ##############\n",
    "FRAMES = 2\n",
    "RESIZE_PIXELS = 40\n",
    "\n",
    "device = 'cuda:3'\n",
    "\n",
    "LR = 1e-5\n",
    "GAMMA = 0.99\n",
    "BETA = 0.01\n",
    "END_SCORE = 1000\n",
    "############################################"
   ]
  },
  {
   "cell_type": "code",
   "execution_count": 4,
   "id": "normal-arrest",
   "metadata": {},
   "outputs": [],
   "source": [
    "############ ENVIRONMENT ##############\n",
    "\n",
    "class Environment:\n",
    "    def __init__(self):\n",
    "        self.env = gym.make(\"CartPole-v0\").unwrapped\n",
    "        self.env.reset()\n",
    "        \n",
    "        screen = self.env.render(mode='rgb_array').transpose((2,0,1))\n",
    "        _, self.screen_height, self.screen_width = screen.shape\n",
    "        \n",
    "        self.resize = T.Compose([T.ToPILImage(),\n",
    "                    T.Resize(RESIZE_PIXELS, interpolation=Image.CUBIC),\n",
    "                    T.Grayscale(),\n",
    "                    T.ToTensor()])\n",
    "        \n",
    "        world_width = self.env.x_threshold * 2\n",
    "        self.scale = self.screen_width / world_width\n",
    "        \n",
    "    def get_cart_location(self):\n",
    "        return int(self.env.state[0] * self.scale + self.screen_width / 2.0)\n",
    "        \n",
    "    def get_screen(self):\n",
    "        screen = self.env.render(mode='rgb_array').transpose((2, 0, 1))\n",
    "        \n",
    "        screen = screen[:, int(self.screen_height*0.4):int(self.screen_height * 0.8)]\n",
    "#         view_width = int(self.screen_width * 0.6)\n",
    "#         cart_location = self.get_cart_location()\n",
    "#         if cart_location < view_width // 2:\n",
    "#             slice_range = slice(view_width)\n",
    "#         elif cart_location > (self.screen_width - view_width // 2):\n",
    "#             slice_range = slice(-view_width, None)\n",
    "#         else:\n",
    "#             slice_range = slice(cart_location - view_width // 2,\n",
    "#                                 cart_location + view_width // 2)\n",
    "#         screen = screen[:, :, slice_range]\n",
    "        screen = np.ascontiguousarray(screen, dtype=np.float32) / 255\n",
    "        screen = torch.from_numpy(screen)\n",
    "        return self.resize(screen).unsqueeze(0)\n",
    "    \n",
    "    def close(self):\n",
    "        self.env.close()\n",
    "        \n",
    "    def step(self, action):\n",
    "        return self.env.step(action)\n",
    "    \n",
    "    def reset(self):\n",
    "        self.env.reset()"
   ]
  },
  {
   "cell_type": "code",
   "execution_count": 5,
   "id": "cardiac-ability",
   "metadata": {},
   "outputs": [],
   "source": [
    "#### NETWORK ##############\n",
    "'''\n",
    "For policy gradient, the network should input the raw pixels, and output the probabilities of choosing either 0 or 1\n",
    "'''\n",
    "\n",
    "class Network(nn.Module):\n",
    "    def __init__(self,h=60,w=135,device='cuda:0'):\n",
    "        super().__init__()\n",
    "        \n",
    "        self.device = device\n",
    "        \n",
    "        input_channel = 2\n",
    "        hidden_channel = 64\n",
    "        hidden_channel2 = 32\n",
    "        kernel_size = 5\n",
    "        stride = 2\n",
    "        \n",
    "        self.base = nn.Sequential(\n",
    "            nn.Conv2d(input_channel, hidden_channel, kernel_size = kernel_size, stride = stride),\n",
    "            nn.BatchNorm2d(hidden_channel),\n",
    "            nn.ReLU(),\n",
    "            nn.Conv2d(hidden_channel, hidden_channel, kernel_size = kernel_size, stride = stride),\n",
    "            nn.BatchNorm2d(hidden_channel),\n",
    "            nn.ReLU(),\n",
    "            nn.Conv2d(hidden_channel, hidden_channel2, kernel_size = kernel_size, stride = stride),\n",
    "            nn.BatchNorm2d(hidden_channel2),\n",
    "            nn.ReLU()\n",
    "        )\n",
    "        \n",
    "        def conv2d_size_out(size, kernel_size = kernel_size, stride = stride):\n",
    "            return (size - (kernel_size - 1) - 1) // stride  + 1\n",
    "        \n",
    "        convw = conv2d_size_out(conv2d_size_out(conv2d_size_out(w)))\n",
    "        convh = conv2d_size_out(conv2d_size_out(conv2d_size_out(h)))\n",
    "        linear_input_size = convw * convh * hidden_channel2\n",
    "        \n",
    "        self.head = nn.Sequential(\n",
    "            nn.Linear(linear_input_size, 24),\n",
    "            nn.ReLU(),\n",
    "            nn.Linear(24, 2)\n",
    "        )\n",
    "\n",
    "    def forward(self, x):\n",
    "        #x = x.to(self.device)\n",
    "        x = self.base(x)\n",
    "        x = x.flatten(1)\n",
    "        x = self.head(x)\n",
    "        return F.softmax(x,dim = 1)"
   ]
  },
  {
   "cell_type": "code",
   "execution_count": 6,
   "id": "unlimited-bubble",
   "metadata": {},
   "outputs": [],
   "source": [
    "env = Environment()\n",
    "env.reset()"
   ]
  },
  {
   "cell_type": "code",
   "execution_count": 7,
   "id": "defensive-mechanics",
   "metadata": {},
   "outputs": [
    {
     "data": {
      "image/png": "[encoded data removed]",
      "text/plain": [
       "<Figure size 432x288 with 1 Axes>"
      ]
     },
     "metadata": {
      "needs_background": "light"
     },
     "output_type": "display_data"
    }
   ],
   "source": [
    "env.step(0)\n",
    "plt.figure()\n",
    "plt.imshow(env.get_screen().cpu().squeeze(0).permute(1, 2, 0).numpy().squeeze(), cmap='gray')\n",
    "plt.title('Example extracted screen')\n",
    "plt.show()"
   ]
  },
  {
   "cell_type": "code",
   "execution_count": 8,
   "id": "prospective-modem",
   "metadata": {},
   "outputs": [],
   "source": [
    "screen_shape = env.get_screen().shape\n",
    "policy_net = Network(h = screen_shape[2], w = screen_shape[3], device = device).to(device)\n",
    "\n",
    "optimizer = optim.Adam(policy_net.parameters(), lr=LR)"
   ]
  },
  {
   "cell_type": "code",
   "execution_count": 9,
   "id": "activated-district",
   "metadata": {},
   "outputs": [
    {
     "data": {
      "text/plain": [
       "tensor([[0.5471, 0.4529]], device='cuda:3', grad_fn=<SoftmaxBackward>)"
      ]
     },
     "execution_count": 9,
     "metadata": {},
     "output_type": "execute_result"
    }
   ],
   "source": [
    "p_screen = env.get_screen().to(device)\n",
    "c_screen = env.get_screen().to(device)\n",
    "\n",
    "x = torch.cat((p_screen, c_screen),dim=1)\n",
    "\n",
    "policy_net(x)"
   ]
  },
  {
   "cell_type": "code",
   "execution_count": 10,
   "id": "acquired-refrigerator",
   "metadata": {},
   "outputs": [],
   "source": [
    "HISTORY = []\n",
    "\n",
    "def discount_rewards(r):\n",
    "    discounted_r = torch.zeros(r.size())\n",
    "    running_add = 0\n",
    "    for t in reversed(range(len(r))):\n",
    "        running_add = running_add * GAMMA + r[t]\n",
    "        discounted_r[t] = running_add\n",
    "\n",
    "    return discounted_r\n",
    "\n",
    "def run_episode(net, episode, env, logger = None):\n",
    "    net.eval()\n",
    "    state = env.reset()\n",
    "    prev_screen = env.get_screen().to(device)\n",
    "    \n",
    "    reward_sum = 0\n",
    "    xs = torch.FloatTensor([]).to(device)\n",
    "    ys = torch.FloatTensor([]).to(device)\n",
    "    rewards = torch.FloatTensor([]).to(device)\n",
    "    steps = 0\n",
    "\n",
    "    for t in count():\n",
    "        screen = env.get_screen().to(device)\n",
    "        \n",
    "        x = torch.cat((prev_screen, screen), dim=1)\n",
    "        \n",
    "        action_prob = net(x)\n",
    "\n",
    "        action = 0 if random.random() < action_prob[0][0] else 1\n",
    "\n",
    "        y = torch.FloatTensor([[1, 0]] if action == 0 else [[0, 1]]).to(device)\n",
    "        \n",
    "        xs = torch.cat([xs, x])\n",
    "        ys = torch.cat([ys, y])\n",
    "        \n",
    "        prev_screen = screen\n",
    "        state, reward, done, _ = env.step(action)\n",
    "        \n",
    "#         # Reward modification for better stability\n",
    "#         x, x_dot, theta, theta_dot = state\n",
    "#         r1 = (env.env.x_threshold - abs(x)) / env.env.x_threshold - 0.8\n",
    "#         r2 = (env.env.theta_threshold_radians - abs(theta)) / env.env.theta_threshold_radians - 0.5\n",
    "#         reward = r1 + r2\n",
    "#         #reward = torch.tensor([reward], device=device)\n",
    "#         if t >= END_SCORE-1:\n",
    "#             reward = reward + 20\n",
    "#             done = 1\n",
    "#         else: \n",
    "#             if done:\n",
    "#                 reward = reward - 20 \n",
    "        \n",
    "        rewards = torch.cat([rewards, torch.FloatTensor([[reward]]).to(device)])\n",
    "        reward_sum += reward\n",
    "        steps += 1\n",
    "    \n",
    "\n",
    "        if done or steps >= 1000:\n",
    "            adv = discount_rewards(rewards)\n",
    "            #adv = (adv - adv.mean())\n",
    "            adv = (adv - adv.mean())/(adv.std() + 1e-7)\n",
    "            loss,entropy = learn(xs, ys, adv, net)\n",
    "            print(\"[Episode {:>5}]  steps: {:>5} loss: {:>5} entropy: {:>5}\".format(episode, steps, loss, entropy))\n",
    "            if logger != None:\n",
    "                log.log_scalar(scalar=steps,episode=episode,name='duration')\n",
    "                log.log_scalar(scalar=reward_sum,episode=episode,name='reward')\n",
    "                log.log_scalar(scalar=entropy,episode=episode,name='entropy')\n",
    "                log.log_scalar(scalar=loss,episode=episode,name='loss')\n",
    "            return False\n",
    "\n",
    "def learn(x, y, adv, model):\n",
    "    model.train()\n",
    "    # Loss function, ∑ Ai*logp(yi∣xi), but we need fake lable Y due to autodiff\n",
    "    action_pred = model(x)\n",
    "    log_action_pred = torch.log(action_pred)\n",
    "    \n",
    "    entropy = -torch.sum(action_pred*log_action_pred,dim=1).mean()\n",
    "    \n",
    "    y = Variable(y, requires_grad=True)\n",
    "    adv = Variable(adv).to(device)\n",
    "    # print(action_pred)\n",
    "    log_lik = -y * log_action_pred\n",
    "    # print(y)\n",
    "    log_lik_adv = log_lik * adv\n",
    "    # print(torch.sum(log_lik_adv, 1))\n",
    "    loss = torch.sum(log_lik_adv, 1).mean() - BETA*entropy\n",
    "\n",
    "    optimizer.zero_grad()\n",
    "    loss.backward()\n",
    "    optimizer.step()\n",
    "\n",
    "    return loss.item(), entropy.item()"
   ]
  },
  {
   "cell_type": "code",
   "execution_count": 11,
   "id": "featured-exemption",
   "metadata": {},
   "outputs": [],
   "source": [
    "name = f\"PG hidden=64 lr={LR} max_steps=1000 Adam fullwidth BETA={BETA}\"\n",
    "#name = \"test\"\n",
    "log = Logger(model_name=name)"
   ]
  },
  {
   "cell_type": "code",
   "execution_count": null,
   "id": "dated-lithuania",
   "metadata": {},
   "outputs": [
    {
     "name": "stdout",
     "output_type": "stream",
     "text": [
      "[Episode 10451]  steps:    88 loss: -0.16389600932598114 entropy: 0.519363522529602\n",
      "[Episode 10452]  steps:    67 loss: -0.08535914868116379 entropy: 0.4573885202407837\n",
      "[Episode 10453]  steps:    74 loss: -0.04664262756705284 entropy: 0.5364887118339539\n",
      "[Episode 10454]  steps:    79 loss: -0.10459451377391815 entropy: 0.5561109781265259\n",
      "[Episode 10455]  steps:   177 loss: -0.0721498653292656 entropy: 0.5211411714553833\n",
      "[Episode 10456]  steps:    71 loss: -0.10105814039707184 entropy: 0.5731703042984009\n",
      "[Episode 10457]  steps:   103 loss: -0.059668444097042084 entropy: 0.5462737083435059\n",
      "[Episode 10458]  steps:    82 loss: -0.06550679355859756 entropy: 0.5116916298866272\n",
      "[Episode 10459]  steps:   186 loss: -0.022856153547763824 entropy: 0.5126659274101257\n",
      "[Episode 10460]  steps:    88 loss: -0.026433883234858513 entropy: 0.5210526585578918\n",
      "[Episode 10461]  steps:   142 loss: -0.06276030838489532 entropy: 0.5520593523979187\n",
      "[Episode 10462]  steps:    92 loss: -0.09456738084554672 entropy: 0.5501389503479004\n",
      "[Episode 10463]  steps:    89 loss: -0.053007572889328 entropy: 0.5289339423179626\n",
      "[Episode 10464]  steps:    82 loss: -0.11831413209438324 entropy: 0.5237851738929749\n",
      "[Episode 10465]  steps:    80 loss: -0.07965818792581558 entropy: 0.4752618968486786\n",
      "[Episode 10466]  steps:   112 loss: -0.11162716150283813 entropy: 0.6162029504776001\n",
      "[Episode 10467]  steps:   164 loss: -0.11306586116552353 entropy: 0.5363141298294067\n",
      "[Episode 10468]  steps:    90 loss: -0.12928920984268188 entropy: 0.4758457839488983\n",
      "[Episode 10469]  steps:   192 loss: -0.04243346303701401 entropy: 0.5658429861068726\n",
      "[Episode 10470]  steps:    94 loss: -0.08691440522670746 entropy: 0.4724988639354706\n",
      "[Episode 10471]  steps:   129 loss: -0.026718761771917343 entropy: 0.4444330930709839\n",
      "[Episode 10472]  steps:   111 loss: -0.14692933857440948 entropy: 0.52452152967453\n",
      "[Episode 10473]  steps:    90 loss: -0.0938652902841568 entropy: 0.5238928198814392\n",
      "[Episode 10474]  steps:   245 loss: -0.03348281979560852 entropy: 0.49527251720428467\n",
      "[Episode 10475]  steps:   137 loss: -0.13250082731246948 entropy: 0.45523351430892944\n",
      "[Episode 10476]  steps:    79 loss: -0.17151251435279846 entropy: 0.4751051962375641\n"
     ]
    }
   ],
   "source": [
    "import time\n",
    "\n",
    "for episode in range(100000):\n",
    "    complete = run_episode(policy_net, episode, env,log)\n",
    "\n",
    "    if complete:\n",
    "        print('complete...!')\n",
    "        break\n",
    "    \n",
    "    if episode % 50 == 0:\n",
    "        clear_output(wait=True)\n",
    "        torch.save(policy_net.state_dict(), f'models/{name}.pt')"
   ]
  },
  {
   "cell_type": "code",
   "execution_count": null,
   "id": "abroad-vampire",
   "metadata": {},
   "outputs": [],
   "source": []
  }
 ],
 "metadata": {
  "kernelspec": {
   "display_name": "Python 3",
   "language": "python",
   "name": "python3"
  },
  "language_info": {
   "codemirror_mode": {
    "name": "ipython",
    "version": 3
   },
   "file_extension": ".py",
   "mimetype": "text/x-python",
   "name": "python",
   "nbconvert_exporter": "python",
   "pygments_lexer": "ipython3",
   "version": "3.9.2"
  }
 },
 "nbformat": 4,
 "nbformat_minor": 5
}
